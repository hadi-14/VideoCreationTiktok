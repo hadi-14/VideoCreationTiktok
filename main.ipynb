{
 "cells": [
  {
   "cell_type": "code",
   "execution_count": 1,
   "metadata": {},
   "outputs": [
    {
     "name": "stdout",
     "output_type": "stream",
     "text": [
      "Moviepy - Building video d:\\Python Scripts\\Ongoing\\VideoCreationTiktok\\media\\Do you know! Ancient Egypt.mp4.\n",
      "MoviePy - Writing audio in Do you know! Ancient EgyptTEMP_MPY_wvf_snd.mp3\n"
     ]
    },
    {
     "name": "stderr",
     "output_type": "stream",
     "text": [
      "                                                                      \r"
     ]
    },
    {
     "name": "stdout",
     "output_type": "stream",
     "text": [
      "MoviePy - Done.\n",
      "Moviepy - Writing video d:\\Python Scripts\\Ongoing\\VideoCreationTiktok\\media\\Do you know! Ancient Egypt.mp4\n",
      "\n"
     ]
    },
    {
     "name": "stderr",
     "output_type": "stream",
     "text": [
      "                                                                \r"
     ]
    },
    {
     "name": "stdout",
     "output_type": "stream",
     "text": [
      "Moviepy - Done !\n",
      "Moviepy - video ready d:\\Python Scripts\\Ongoing\\VideoCreationTiktok\\media\\Do you know! Ancient Egypt.mp4\n"
     ]
    }
   ],
   "source": [
    "from moviepy.editor import VideoFileClip\n",
    "from moviepy.video.fx.all import crop\n",
    "import os\n",
    "\n",
    "def cropVideo(src, dest, x,y,h,w):\n",
    "    clip = VideoFileClip(src)\n",
    "    cropped_clip = crop(clip, x1=x, y1=y, width=w, height=h)\n",
    "    cropped_clip.write_videofile(dest)\n",
    "\n",
    "# cropVideo(r\"C:\\Users\\Dell\\Downloads\\Did you know Obsidian isn't just a rock It's a glimpse into our volcanic past! 🔥 #DidYouKnow #ObsidianFacts #Geology101.mp4\", r\"media\\Did you know Obsidian isn't just a rock It's a glimpse into our volcanic past! 🔥 #DidYouKnow #ObsidianFacts #Geology101.mp4\", 69,244,1676,942)\n",
    "title = \"Do you know! Ancient Egypt\"\n",
    "# title.replace(\": \", \" \")\n",
    "downloadName = \"TORz7ZRVEffb.. 🏛️ -D-1712844138\"\n",
    "recent_mp4 = os.path.join(os.path.expanduser(\"~/Downloads\"), downloadName + \".mp4\")\n",
    "\n",
    "current_directory = os.path.join(os.getcwd(), \"media\")\n",
    "path = os.path.join(current_directory, title + \".mp4\")\n",
    "cropVideo(recent_mp4, path, 69, 244, 1676, 942)\n",
    "os.remove(recent_mp4)"
   ]
  }
 ],
 "metadata": {
  "kernelspec": {
   "display_name": "base",
   "language": "python",
   "name": "python3"
  },
  "language_info": {
   "codemirror_mode": {
    "name": "ipython",
    "version": 3
   },
   "file_extension": ".py",
   "mimetype": "text/x-python",
   "name": "python",
   "nbconvert_exporter": "python",
   "pygments_lexer": "ipython3",
   "version": "3.11.7"
  }
 },
 "nbformat": 4,
 "nbformat_minor": 2
}
