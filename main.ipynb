{
 "cells": [
  {
   "cell_type": "code",
   "execution_count": 5,
   "metadata": {},
   "outputs": [
    {
     "name": "stdout",
     "output_type": "stream",
     "text": [
      "Moviepy - Building video d:\\Python Scripts\\Ongoing\\VideoCreationTiktok\\media\\Do you know! Cholera can be deadly, but we can fight it with clean water and sanitation. 💧 #DidYouKnow #Cholera #PublicHealth.mp4.\n",
      "MoviePy - Writing audio in Do you know! Cholera can be deadly, but we can fight it with clean water and sanitation. 💧 #DidYouKnow #Cholera #PublicHealthTEMP_MPY_wvf_snd.mp3\n"
     ]
    },
    {
     "name": "stderr",
     "output_type": "stream",
     "text": [
      "                                                                      \r"
     ]
    },
    {
     "name": "stdout",
     "output_type": "stream",
     "text": [
      "MoviePy - Done.\n",
      "Moviepy - Writing video d:\\Python Scripts\\Ongoing\\VideoCreationTiktok\\media\\Do you know! Cholera can be deadly, but we can fight it with clean water and sanitation. 💧 #DidYouKnow #Cholera #PublicHealth.mp4\n",
      "\n"
     ]
    },
    {
     "name": "stderr",
     "output_type": "stream",
     "text": [
      "                                                                \r"
     ]
    },
    {
     "name": "stdout",
     "output_type": "stream",
     "text": [
      "Moviepy - Done !\n",
      "Moviepy - video ready d:\\Python Scripts\\Ongoing\\VideoCreationTiktok\\media\\Do you know! Cholera can be deadly, but we can fight it with clean water and sanitation. 💧 #DidYouKnow #Cholera #PublicHealth.mp4\n"
     ]
    }
   ],
   "source": [
    "from moviepy.editor import VideoFileClip\n",
    "from moviepy.video.fx.all import crop\n",
    "import os\n",
    "\n",
    "def cropVideo(src, dest, x,y,h,w):\n",
    "    clip = VideoFileClip(src)\n",
    "    cropped_clip = crop(clip, x1=x, y1=y, width=w, height=h)\n",
    "    cropped_clip.write_videofile(dest, threads=4)\n",
    "\n",
    "# cropVideo(r\"C:\\Users\\Dell\\Downloads\\Did you know Obsidian isn't just a rock It's a glimpse into our volcanic past! 🔥 #DidYouKnow #ObsidianFacts #Geology101.mp4\", r\"media\\Did you know Obsidian isn't just a rock It's a glimpse into our volcanic past! 🔥 #DidYouKnow #ObsidianFacts #Geology101.mp4\", 69,244,1676,942)\n",
    "title = \"Do you know! Cholera can be deadly, but we can fight it with clean water and sanitation. 💧 #DidYouKnow #Cholera #PublicHealth\"\n",
    "title.replace(\": \", \" \")\n",
    "downloadName = \"Do you know- Cholera-1713704344\"\n",
    "recent_mp4 = os.path.join(os.path.expanduser(\"~/Downloads\"), downloadName + \".mp4\")\n",
    "\n",
    "current_directory = os.path.join(os.getcwd(), \"media\")\n",
    "path = os.path.join(current_directory, title + \".mp4\")\n",
    "cropVideo(recent_mp4, path, 69, 244, 1676, 942)\n",
    "os.remove(recent_mp4)"
   ]
  },
  {
   "cell_type": "code",
   "execution_count": 3,
   "metadata": {},
   "outputs": [
    {
     "name": "stdout",
     "output_type": "stream",
     "text": [
      "{'title': \"The Burj Khalifa is the world's tallest building with 163 floors. Have you seen its stunning design #DidYouKnow #BurjKhalifa\", 'download_name': 'Burj Khalifa-1713979408', 'x': 69, 'y': 244, 'h': 1676, 'w': 942}\n",
      "Moviepy - Building video d:\\Python Scripts\\Ongoing\\VideoCreationTiktok\\media\\The Burj Khalifa is the world's tallest building with 163 floors. Have you seen its stunning design #DidYouKnow #BurjKhalifa.mp4.\n",
      "MoviePy - Writing audio in The Burj Khalifa is the world's tallest building with 163 floors. Have you seen its stunning design #DidYouKnow #BurjKhalifaTEMP_MPY_wvf_snd.mp3\n"
     ]
    },
    {
     "name": "stderr",
     "output_type": "stream",
     "text": [
      "                                                                     \r"
     ]
    },
    {
     "name": "stdout",
     "output_type": "stream",
     "text": [
      "MoviePy - Done.\n",
      "Moviepy - Writing video d:\\Python Scripts\\Ongoing\\VideoCreationTiktok\\media\\The Burj Khalifa is the world's tallest building with 163 floors. Have you seen its stunning design #DidYouKnow #BurjKhalifa.mp4\n",
      "\n"
     ]
    },
    {
     "name": "stderr",
     "output_type": "stream",
     "text": [
      "                                                                \r"
     ]
    },
    {
     "name": "stdout",
     "output_type": "stream",
     "text": [
      "Moviepy - Done !\n",
      "Moviepy - video ready d:\\Python Scripts\\Ongoing\\VideoCreationTiktok\\media\\The Burj Khalifa is the world's tallest building with 163 floors. Have you seen its stunning design #DidYouKnow #BurjKhalifa.mp4\n",
      "{'title': \"Viruses aren't technically alive but can cause major diseases. Learn about these tiny agents! #DidYouKnow #Viruses #ScienceFacts\", 'download_name': 'Viruses-1713979401', 'x': 69, 'y': 244, 'h': 1676, 'w': 942}\n",
      "Moviepy - Building video d:\\Python Scripts\\Ongoing\\VideoCreationTiktok\\media\\Viruses aren't technically alive but can cause major diseases. Learn about these tiny agents! #DidYouKnow #Viruses #ScienceFacts.mp4.\n",
      "MoviePy - Writing audio in Viruses aren't technically alive but can cause major diseases. Learn about these tiny agents! #DidYouKnow #Viruses #ScienceFactsTEMP_MPY_wvf_snd.mp3\n"
     ]
    },
    {
     "name": "stderr",
     "output_type": "stream",
     "text": [
      "                                                                     \r"
     ]
    },
    {
     "name": "stdout",
     "output_type": "stream",
     "text": [
      "MoviePy - Done.\n",
      "Moviepy - Writing video d:\\Python Scripts\\Ongoing\\VideoCreationTiktok\\media\\Viruses aren't technically alive but can cause major diseases. Learn about these tiny agents! #DidYouKnow #Viruses #ScienceFacts.mp4\n",
      "\n"
     ]
    },
    {
     "name": "stderr",
     "output_type": "stream",
     "text": [
      "                                                                \r"
     ]
    },
    {
     "name": "stdout",
     "output_type": "stream",
     "text": [
      "Moviepy - Done !\n",
      "Moviepy - video ready d:\\Python Scripts\\Ongoing\\VideoCreationTiktok\\media\\Viruses aren't technically alive but can cause major diseases. Learn about these tiny agents! #DidYouKnow #Viruses #ScienceFacts.mp4\n"
     ]
    }
   ],
   "source": [
    "from moviepy.editor import VideoFileClip\n",
    "from moviepy.video.fx.all import crop\n",
    "import os\n",
    "import threading\n",
    "\n",
    "def cropVideo(src, dest, x, y, h, w):\n",
    "    clip = VideoFileClip(src)\n",
    "    cropped_clip = crop(clip, x1=x, y1=y, width=w, height=h)\n",
    "    cropped_clip.write_videofile(dest, threads=4)\n",
    "\n",
    "def process_video(title_info):\n",
    "    title = title_info['title']\n",
    "    downloadName = title_info['download_name']\n",
    "    recent_mp4 = os.path.join(os.path.expanduser(\"~/Downloads\"), downloadName + \".mp4\")\n",
    "    \n",
    "    current_directory = os.path.join(os.getcwd(), \"media\")\n",
    "    dest_path = os.path.join(current_directory, title + \".mp4\")\n",
    "    \n",
    "    cropVideo(recent_mp4, dest_path, title_info['x'], title_info['y'], title_info['h'], title_info['w'])\n",
    "    os.remove(recent_mp4)\n",
    "\n",
    "# Read titles from a file (assuming each line contains title info in the format: title,downloadName,x,y,h,w)\n",
    "titles_info = []\n",
    "with open(\"titles.txt\", \"r\", encoding=\"utf-8\") as f:\n",
    "    for line in f.read().split(\"\\n\"):\n",
    "        if line != \"\":\n",
    "            title_info = line.split(\":\")\n",
    "            title_info = [i.removeprefix(\" \").removesuffix(\" \") for i in title_info]\n",
    "            titles_info.append({\n",
    "                'title': title_info[0],\n",
    "                'download_name': title_info[1],\n",
    "                'x': 69,\n",
    "                'y': 244,\n",
    "                'h': 1676,\n",
    "                'w': 942\n",
    "            })\n",
    "\n",
    "for title_info in titles_info:\n",
    "    print(title_info)\n",
    "    process_video(title_info)"
   ]
  },
  {
   "cell_type": "code",
   "execution_count": 2,
   "metadata": {},
   "outputs": [
    {
     "data": {
      "text/plain": [
       "['']"
      ]
     },
     "execution_count": 2,
     "metadata": {},
     "output_type": "execute_result"
    }
   ],
   "source": [
    "title_info"
   ]
  },
  {
   "cell_type": "code",
   "execution_count": null,
   "metadata": {},
   "outputs": [],
   "source": []
  }
 ],
 "metadata": {
  "kernelspec": {
   "display_name": "base",
   "language": "python",
   "name": "python3"
  },
  "language_info": {
   "codemirror_mode": {
    "name": "ipython",
    "version": 3
   },
   "file_extension": ".py",
   "mimetype": "text/x-python",
   "name": "python",
   "nbconvert_exporter": "python",
   "pygments_lexer": "ipython3",
   "version": "3.11.7"
  }
 },
 "nbformat": 4,
 "nbformat_minor": 2
}
